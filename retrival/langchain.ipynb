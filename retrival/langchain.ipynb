{
 "cells": [
  {
   "cell_type": "code",
   "execution_count": 1,
   "metadata": {},
   "outputs": [],
   "source": [
    "import os\n",
    "from dotenv import load_dotenv\n",
    "\n",
    "load_dotenv('token.env')\n",
    "api_token = os.getenv('api_token')\n"
   ]
  },
  {
   "cell_type": "code",
   "execution_count": 2,
   "metadata": {},
   "outputs": [],
   "source": [
    "# from langchain.document_loaders import PyPDFLoader\n",
    "\n",
    "# loader = PyPDFLoader(\"Accelerating-Apache-Spark-3.pdf\")\n",
    "# data = loader.load()\n",
    "\n",
    "from langchain.document_loaders import TextLoader\n",
    "\n",
    "loader = TextLoader(\"instructions.txt\")\n",
    "data = loader.load()"
   ]
  },
  {
   "cell_type": "code",
   "execution_count": 3,
   "metadata": {},
   "outputs": [
    {
     "data": {
      "text/plain": [
       "'[General Gameplay/Start Game]\\n- Provide occasional hints, tips, or prompts to guide the player\\'s decision-making process.\\n- Encourage creativity and exploration while maintaining a sense of challenge and adventure.\\n\\n[Exploration]\\n- The player finds themselves in a dense, enchanted forest teeming with mystical creatures and hidden treasures.\\n- Encourage the player to explore the forest by describing the surroundings, potential encounters, and points of interest.\\n- Use vivid imagery and descriptive language to immerse the player in the forest environment.\\n- Provide hints or clues about nearby landmarks, valuable items, or potential dangers.\\n\\n[What to do]\\n- Exploration: The player can move deeper into the forest to discover new areas and encounters.\\n- Combat: Engaging in combat with nearby monsters is an option.\\n- Rest: The player can take a break to regain health and stamina.\\n- Treasure Hunting: They can search for chests containing valuable loot.\\n\\n[Monster Encounter/Combat Mechanics/Fighting With Monster]\\n- When the player encounters a monster, describe its appearance, behavior, and any distinguishing features.\\n- Instruct the player to type \"Attack\" followed by the monster\\'s name to engage in combat.\\n- Alternatively, the player can type \"Pet\" followed by the monster\\'s name to attempt to befriend the monster.\\n- If the player chooses to attack, resolve the combat encounter based on the player\\'s actions and the monster\\'s behavior.\\n- If the player chooses to pet the monster, describe the player\\'s approach and the monster\\'s reaction.\\n- The monster may respond with either aggression or friendliness, depending on its nature and the player\\'s actions.\\n- Provide feedback on the outcome of the interaction, including any consequences for the player\\'s choice.\\n\\n[Resting]\\n- Explain the importance of resting to regain health and stamina after strenuous activities or combat encounters.\\n- Guide the player to find a safe spot in the forest and type \"Rest\" to initiate the resting process.\\n- Describe the peaceful ambiance of the resting area and the soothing effects of the restorative rest.\\n\\n[Treasures]\\n- Inform the player about the presence of hidden treasures scattered throughout the forest.\\n- Encourage the player to search for chests containing valuable loot by typing \"Open Chest.\"\\n- Warn the player about potential traps guarding the chests and provide instructions on how to disarm them.\\n- Describe the excitement and satisfaction of uncovering rare and valuable treasures.\\n\\n'"
      ]
     },
     "execution_count": 3,
     "metadata": {},
     "output_type": "execute_result"
    }
   ],
   "source": [
    "data[0].page_content"
   ]
  },
  {
   "cell_type": "code",
   "execution_count": 4,
   "metadata": {},
   "outputs": [],
   "source": [
    "from langchain.text_splitter import RecursiveCharacterTextSplitter,CharacterTextSplitter\n",
    "\n",
    "# splitter = RecursiveCharacterTextSplitter(\n",
    "#     chunk_size=1000,\n",
    "#     chunk_overlap=100\n",
    "# )\n",
    "\n",
    "# data = splitter.split_documents(data)\n",
    "# len(data)\n",
    "\n",
    "# r_splitter = RecursiveCharacterTextSplitter(\n",
    "#     chunk_size=450,\n",
    "#     chunk_overlap=0, \n",
    "#     separators=[\"\\n\\n\"]\n",
    "# )\n",
    "\n",
    "from langchain.text_splitter import CharacterTextSplitter\n",
    "text_splitter = CharacterTextSplitter(separator=\"\\n\\n\", chunk_size=10, chunk_overlap=1)"
   ]
  },
  {
   "cell_type": "code",
   "execution_count": 5,
   "metadata": {},
   "outputs": [
    {
     "name": "stderr",
     "output_type": "stream",
     "text": [
      "Created a chunk of size 214, which is longer than the specified 10\n",
      "Created a chunk of size 430, which is longer than the specified 10\n",
      "Created a chunk of size 311, which is longer than the specified 10\n",
      "Created a chunk of size 814, which is longer than the specified 10\n",
      "Created a chunk of size 328, which is longer than the specified 10\n"
     ]
    }
   ],
   "source": [
    "# text_splitter = RecursiveCharacterTextSplitter(separators=[\"forest\"], chunk_size=450, chunk_overlap=0)\n",
    "docs = text_splitter.split_documents(data)"
   ]
  },
  {
   "cell_type": "code",
   "execution_count": 6,
   "metadata": {},
   "outputs": [
    {
     "name": "stdout",
     "output_type": "stream",
     "text": [
      "6\n",
      "[General Gameplay/Start Game]\n",
      "- Provide occasional hints, tips, or prompts to guide the player's decision-making process.\n",
      "- Encourage creativity and exploration while maintaining a sense of challenge and adventure.\n",
      "----------------------------------------------------------------------------------------------------\n",
      "----------------------------------------------------------------------------------------------------\n",
      "[Exploration]\n",
      "- The player finds themselves in a dense, enchanted forest teeming with mystical creatures and hidden treasures.\n",
      "- Encourage the player to explore the forest by describing the surroundings, potential encounters, and points of interest.\n",
      "- Use vivid imagery and descriptive language to immerse the player in the forest environment.\n",
      "- Provide hints or clues about nearby landmarks, valuable items, or potential dangers.\n",
      "----------------------------------------------------------------------------------------------------\n",
      "----------------------------------------------------------------------------------------------------\n",
      "[What to do]\n",
      "- Exploration: The player can move deeper into the forest to discover new areas and encounters.\n",
      "- Combat: Engaging in combat with nearby monsters is an option.\n",
      "- Rest: The player can take a break to regain health and stamina.\n",
      "- Treasure Hunting: They can search for chests containing valuable loot.\n",
      "----------------------------------------------------------------------------------------------------\n",
      "----------------------------------------------------------------------------------------------------\n",
      "[Monster Encounter/Combat Mechanics/Fighting With Monster]\n",
      "- When the player encounters a monster, describe its appearance, behavior, and any distinguishing features.\n",
      "- Instruct the player to type \"Attack\" followed by the monster's name to engage in combat.\n",
      "- Alternatively, the player can type \"Pet\" followed by the monster's name to attempt to befriend the monster.\n",
      "- If the player chooses to attack, resolve the combat encounter based on the player's actions and the monster's behavior.\n",
      "- If the player chooses to pet the monster, describe the player's approach and the monster's reaction.\n",
      "- The monster may respond with either aggression or friendliness, depending on its nature and the player's actions.\n",
      "- Provide feedback on the outcome of the interaction, including any consequences for the player's choice.\n",
      "----------------------------------------------------------------------------------------------------\n",
      "----------------------------------------------------------------------------------------------------\n",
      "[Resting]\n",
      "- Explain the importance of resting to regain health and stamina after strenuous activities or combat encounters.\n",
      "- Guide the player to find a safe spot in the forest and type \"Rest\" to initiate the resting process.\n",
      "- Describe the peaceful ambiance of the resting area and the soothing effects of the restorative rest.\n",
      "----------------------------------------------------------------------------------------------------\n",
      "----------------------------------------------------------------------------------------------------\n",
      "[Treasures]\n",
      "- Inform the player about the presence of hidden treasures scattered throughout the forest.\n",
      "- Encourage the player to search for chests containing valuable loot by typing \"Open Chest.\"\n",
      "- Warn the player about potential traps guarding the chests and provide instructions on how to disarm them.\n",
      "- Describe the excitement and satisfaction of uncovering rare and valuable treasures.\n",
      "----------------------------------------------------------------------------------------------------\n",
      "----------------------------------------------------------------------------------------------------\n"
     ]
    }
   ],
   "source": [
    "dash_line = \"-\" * 100\n",
    "print(len(docs))\n",
    "for doc in docs:\n",
    "    print(doc.page_content)\n",
    "    print(dash_line + '\\n' + dash_line)\n"
   ]
  },
  {
   "cell_type": "code",
   "execution_count": null,
   "metadata": {},
   "outputs": [],
   "source": []
  },
  {
   "cell_type": "code",
   "execution_count": 7,
   "metadata": {},
   "outputs": [],
   "source": [
    "from langchain.embeddings import HuggingFaceEmbeddings\n",
    "\n",
    "model_name = 'sentence-transformers/all-MiniLM-L6-v2'\n",
    "model_kwargs = {'device': 'cuda'}\n",
    "encode_kwargs = {'normalize_embeddings': False}\n",
    "\n",
    "embeddings = HuggingFaceEmbeddings(\n",
    "    model_name=model_name,\n",
    "    model_kwargs=model_kwargs,\n",
    "    encode_kwargs=encode_kwargs\n",
    ")"
   ]
  },
  {
   "cell_type": "code",
   "execution_count": 8,
   "metadata": {},
   "outputs": [],
   "source": [
    "from langchain.vectorstores import Chroma"
   ]
  },
  {
   "cell_type": "code",
   "execution_count": 9,
   "metadata": {},
   "outputs": [],
   "source": [
    "vectordb = Chroma.from_documents(\n",
    "    documents=docs,\n",
    "    embedding = embeddings,\n",
    "    persist_directory = 'instructions'\n",
    "    )"
   ]
  },
  {
   "cell_type": "code",
   "execution_count": 10,
   "metadata": {},
   "outputs": [
    {
     "data": {
      "application/vnd.jupyter.widget-view+json": {
       "model_id": "5b634392c5484fa5a5f2c16b9b79535e",
       "version_major": 2,
       "version_minor": 0
      },
      "text/plain": [
       "Loading checkpoint shards:   0%|          | 0/2 [00:00<?, ?it/s]"
      ]
     },
     "metadata": {},
     "output_type": "display_data"
    }
   ],
   "source": [
    "from transformers import AutoTokenizer, AutoModelForCausalLM\n",
    "import torch\n",
    "\n",
    "model_name = \"google/gemma-2b-it\"\n",
    "dtype = torch.bfloat16\n",
    "\n",
    "tokenizer = AutoTokenizer.from_pretrained(model_name,token = api_token)\n",
    "model = AutoModelForCausalLM.from_pretrained(model_name,token = api_token, device_map = 'auto', torch_dtype = dtype)"
   ]
  },
  {
   "cell_type": "code",
   "execution_count": 24,
   "metadata": {},
   "outputs": [],
   "source": [
    "from transformers import pipeline\n",
    "from langchain import HuggingFacePipeline\n",
    "from langchain.chains import RetrievalQA\n",
    "\n",
    "pipe = pipeline(\n",
    " \"text-generation\", \n",
    " model=model, \n",
    " tokenizer=tokenizer,\n",
    " return_tensors='pt',\n",
    " max_new_tokens=200,\n",
    " model_kwargs={\"torch_dtype\": torch.bfloat16}\n",
    ")"
   ]
  },
  {
   "cell_type": "code",
   "execution_count": 28,
   "metadata": {},
   "outputs": [],
   "source": [
    "llm = HuggingFacePipeline(\n",
    " pipeline=pipe,\n",
    " model_kwargs={\"temperature\": 0.5},\n",
    ")"
   ]
  },
  {
   "cell_type": "code",
   "execution_count": 29,
   "metadata": {},
   "outputs": [],
   "source": [
    "qa = RetrievalQA.from_chain_type(\n",
    " llm=llm,\n",
    " chain_type=\"stuff\",\n",
    " retriever=vectordb.as_retriever(search_kwargs={\"k\":4}),\n",
    "\n",
    ")"
   ]
  },
  {
   "cell_type": "code",
   "execution_count": 36,
   "metadata": {},
   "outputs": [],
   "source": [
    "start_prompt = '''GAME DIALOGUE:\n",
    "model:\n",
    "The beast lunges at you, its claws outstretched. You narrowly avoid its attack and find yourself in a standoff, your strength against its fury. You know that you must find a way to defeat this beast, but you are running out of time. What will you do next?<end_of_turn>\n",
    "\n",
    "based on the dialogue above, give relevant instructions to model to continue the story.'''"
   ]
  },
  {
   "cell_type": "code",
   "execution_count": 37,
   "metadata": {},
   "outputs": [
    {
     "data": {
      "text/plain": [
       "{'query': 'GAME DIALOGUE:\\nmodel:\\nThe beast lunges at you, its claws outstretched. You narrowly avoid its attack and find yourself in a standoff, your strength against its fury. You know that you must find a way to defeat this beast, but you are running out of time. What will you do next?<end_of_turn>\\n\\nbased on the dialogue above, give relevant instructions to model to continue the story.',\n",
       " 'result': \"\\nThe player must quickly find a way to defend themselves against the beast's attack. They can use any available weapon or tactic to defeat the beast.\"}"
      ]
     },
     "execution_count": 37,
     "metadata": {},
     "output_type": "execute_result"
    }
   ],
   "source": [
    "qa.invoke(start_prompt)"
   ]
  },
  {
   "cell_type": "markdown",
   "metadata": {},
   "source": []
  },
  {
   "cell_type": "code",
   "execution_count": null,
   "metadata": {},
   "outputs": [],
   "source": []
  }
 ],
 "metadata": {
  "kernelspec": {
   "display_name": "Python 3",
   "language": "python",
   "name": "python3"
  },
  "language_info": {
   "codemirror_mode": {
    "name": "ipython",
    "version": 3
   },
   "file_extension": ".py",
   "mimetype": "text/x-python",
   "name": "python",
   "nbconvert_exporter": "python",
   "pygments_lexer": "ipython3",
   "version": "3.10.13"
  }
 },
 "nbformat": 4,
 "nbformat_minor": 2
}
