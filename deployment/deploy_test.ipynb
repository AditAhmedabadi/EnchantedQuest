{
 "cells": [
  {
   "cell_type": "code",
   "execution_count": 6,
   "metadata": {},
   "outputs": [
    {
     "name": "stdout",
     "output_type": "stream",
     "text": [
      "None\n"
     ]
    },
    {
     "data": {
      "application/vnd.jupyter.widget-view+json": {
       "model_id": "49a06ff0cd2847eb90703dbff16ca31c",
       "version_major": 2,
       "version_minor": 0
      },
      "text/plain": [
       "VBox(children=(HTML(value='<center> <img\\nsrc=https://huggingface.co/front/assets/huggingface_logo-noborder.sv…"
      ]
     },
     "metadata": {},
     "output_type": "display_data"
    },
    {
     "name": "stdout",
     "output_type": "stream",
     "text": [
      "Number of GPUs available: 1\n",
      "GPU 0: NVIDIA GeForce RTX 3060\n"
     ]
    }
   ],
   "source": [
    "import os\n",
    "import torch\n",
    "from transformers import AutoModelForCausalLM, AutoTokenizer, BitsAndBytesConfig, GenerationConfig\n",
    "from dotenv import load_dotenv\n",
    "from huggingface_hub import login \n",
    "from deploy_utils import fit_into_model, gen_prompt, get_starter_prompt, check_gpu, get_model_tokenizer\n",
    "\n",
    "# Load the environment file\n",
    "load_dotenv(\"token.env\")\n",
    "\n",
    "# Retrieve the API token\n",
    "api_token = os.getenv(\"api_token\")\n",
    "print(api_token)\n",
    "# Log in to the Hugging Face Hub\n",
    "login(token = api_token)\n",
    "\n",
    "# Check if CUDA is available\n",
    "check_gpu()"
   ]
  },
  {
   "cell_type": "code",
   "execution_count": 7,
   "metadata": {},
   "outputs": [
    {
     "data": {
      "application/vnd.jupyter.widget-view+json": {
       "model_id": "049b60b6af32417cbbf655c98e26f719",
       "version_major": 2,
       "version_minor": 0
      },
      "text/plain": [
       "Loading checkpoint shards:   0%|          | 0/4 [00:00<?, ?it/s]"
      ]
     },
     "metadata": {},
     "output_type": "display_data"
    }
   ],
   "source": [
    "# Define the model name\n",
    "model, tokenizer = get_model_tokenizer(\"google/gemma-7b-it\")"
   ]
  },
  {
   "cell_type": "code",
   "execution_count": 3,
   "metadata": {},
   "outputs": [],
   "source": [
    "import sys\n",
    "sys.path.insert(0, '..')\n",
    "\n",
    "from retrival.helper_functions import get_embeddings, create_vector_db, similarity_search"
   ]
  },
  {
   "cell_type": "code",
   "execution_count": 4,
   "metadata": {},
   "outputs": [
    {
     "name": "stderr",
     "output_type": "stream",
     "text": [
      "Created a chunk of size 214, which is longer than the specified 100\n",
      "Created a chunk of size 430, which is longer than the specified 100\n",
      "Created a chunk of size 311, which is longer than the specified 100\n",
      "Created a chunk of size 924, which is longer than the specified 100\n",
      "Created a chunk of size 328, which is longer than the specified 100\n"
     ]
    }
   ],
   "source": [
    "docs, embeddings = get_embeddings()\n",
    "db = create_vector_db(docs, embeddings, 'instructions')"
   ]
  },
  {
   "cell_type": "code",
   "execution_count": null,
   "metadata": {},
   "outputs": [],
   "source": []
  },
  {
   "cell_type": "code",
   "execution_count": 16,
   "metadata": {},
   "outputs": [
    {
     "name": "stdout",
     "output_type": "stream",
     "text": [
      "[General Gameplay/Start Game]\n",
      "- Provide occasional hints, tips, or prompts to guide the player's decision-making process.\n",
      "- Encourage creativity and exploration while maintaining a sense of challenge and adventure.\n"
     ]
    }
   ],
   "source": [
    "query = \"start the game\"\n",
    "query_docs = db.similarity_search(query, k = 2)\n",
    "print(query_docs[1].page_content)"
   ]
  },
  {
   "cell_type": "code",
   "execution_count": 9,
   "metadata": {},
   "outputs": [
    {
     "name": "stdout",
     "output_type": "stream",
     "text": [
      "<bos><start_of_turn>user\n",
      "Play a game with me where i am in an enchanted forest full of beasts and loots and make it imaginative.\n",
      "You be the narrator and i will be the player, play a dialog game with me. Here are some set of instructions to help you out:\n",
      "[General Gameplay/Start Game]\n",
      "- Provide occasional hints, tips, or prompts to guide the player's decision-making process.\n",
      "- Encourage creativity and exploration while maintaining a sense of challenge and adventure.\n",
      "\n",
      "[Exploration]\n",
      "- The player finds themselves in a dense, enchanted forest teeming with mystical creatures and hidden treasures.\n",
      "- Encourage the player to explore the forest by describing the surroundings, potential encounters, and points of interest.\n",
      "- Use vivid imagery and descriptive language to immerse the player in the forest environment.\n",
      "- Provide hints or clues about nearby landmarks, valuable items, or potential dangers.\n",
      "\n",
      "[What to do]\n",
      "- Exploration: The player can move deeper into the forest to discover new areas and encounters.\n",
      "- Combat: Engaging in combat with nearby monsters is an option.\n",
      "- Rest: The player can take a break to regain health and stamina.\n",
      "- Treasure Hunting: They can search for chests containing valuable loot.\n",
      "\n",
      "[Monster Encounter/Combat Mechanics/Fighting With Monster/Kill beast]\n",
      "- When the player encounters a monster, describe its appearance, behavior, and any distinguishing features.\n",
      "- Instruct the player to type \"Attack\" followed by the monster's name to engage in combat.\n",
      "- Alternatively, the player can type \"Pet\" followed by the monster's name to attempt to befriend the monster.\n",
      "- If the player chooses to attack, resolve the combat encounter based on the player's actions and the monster's behavior.\n",
      "- If the player chooses to pet the monster, describe the player's approach and the monster's reaction.\n",
      "- The monster may respond with either aggression or friendliness, depending on its nature and the player's actions.\n",
      "- Provide feedback on the outcome of the interaction, including any consequences for the player's choice.\n",
      "- The player can target/cut the monster's head or eye or heart to kill it or make it barely alive.\n",
      "\n",
      "[Treasures]\n",
      "- Inform the player about the presence of hidden treasures scattered throughout the forest.\n",
      "- Encourage the player to search for chests containing valuable loot by typing \"Open Chest.\"\n",
      "- Warn the player about potential traps guarding the chests and provide instructions on how to disarm them.\n",
      "- Describe the excitement and satisfaction of uncovering rare and valuable treasures.\n",
      "\n",
      "Start the Game.<end_of_turn>\n",
      "<start_of_turn>model\n",
      "\n"
     ]
    }
   ],
   "source": [
    "prompt = get_starter_prompt(tokenizer)\n",
    "print(prompt)"
   ]
  },
  {
   "cell_type": "code",
   "execution_count": 10,
   "metadata": {},
   "outputs": [
    {
     "name": "stdout",
     "output_type": "stream",
     "text": [
      "<bos><start_of_turn>user\n",
      "Play a game with me where i am in an enchanted forest full of beasts and loots and make it imaginative.\n",
      "You be the narrator and i will be the player, play a dialog game with me. Here are some set of instructions to help you out:\n",
      "[General Gameplay/Start Game]\n",
      "- Provide occasional hints, tips, or prompts to guide the player's decision-making process.\n",
      "- Encourage creativity and exploration while maintaining a sense of challenge and adventure.\n",
      "\n",
      "[Exploration]\n",
      "- The player finds themselves in a dense, enchanted forest teeming with mystical creatures and hidden treasures.\n",
      "- Encourage the player to explore the forest by describing the surroundings, potential encounters, and points of interest.\n",
      "- Use vivid imagery and descriptive language to immerse the player in the forest environment.\n",
      "- Provide hints or clues about nearby landmarks, valuable items, or potential dangers.\n",
      "\n",
      "[What to do]\n",
      "- Exploration: The player can move deeper into the forest to discover new areas and encounters.\n",
      "- Combat: Engaging in combat with nearby monsters is an option.\n",
      "- Rest: The player can take a break to regain health and stamina.\n",
      "- Treasure Hunting: They can search for chests containing valuable loot.\n",
      "\n",
      "[Monster Encounter/Combat Mechanics/Fighting With Monster/Kill beast]\n",
      "- When the player encounters a monster, describe its appearance, behavior, and any distinguishing features.\n",
      "- Instruct the player to type \"Attack\" followed by the monster's name to engage in combat.\n",
      "- Alternatively, the player can type \"Pet\" followed by the monster's name to attempt to befriend the monster.\n",
      "- If the player chooses to attack, resolve the combat encounter based on the player's actions and the monster's behavior.\n",
      "- If the player chooses to pet the monster, describe the player's approach and the monster's reaction.\n",
      "- The monster may respond with either aggression or friendliness, depending on its nature and the player's actions.\n",
      "- Provide feedback on the outcome of the interaction, including any consequences for the player's choice.\n",
      "- The player can target/cut the monster's head or eye or heart to kill it or make it barely alive.\n",
      "\n",
      "[Treasures]\n",
      "- Inform the player about the presence of hidden treasures scattered throughout the forest.\n",
      "- Encourage the player to search for chests containing valuable loot by typing \"Open Chest.\"\n",
      "- Warn the player about potential traps guarding the chests and provide instructions on how to disarm them.\n",
      "- Describe the excitement and satisfaction of uncovering rare and valuable treasures.\n",
      "\n",
      "Start the Game.<end_of_turn>\n",
      "<start_of_turn>model\n",
      "## The Enchanted Forest\n",
      "\n",
      "You wake up with a start, the scent of damp earth and decaying vegetation filling your nostrils. You find yourself in a dense, enchanted forest, the towering trees reaching towards the sky like ancient guardians. The forest is teeming with mystical creatures and hidden treasures, waiting to be discovered.\n",
      "\n",
      "**What do you want to do? Please choose an option below:**\n",
      "\n",
      "**1. Exploration:** You want to delve deeper into the forest, hoping to find new areas and encounters.\n",
      "**2. Combat:** You want to engage in combat with the nearby monsters.\n",
      "**3. Rest:** You want to take a break to regain health and stamina.\n",
      "**4. Treasure Hunting:** You want to search for chests containing valuable loot.\n",
      "\n",
      "Please tell me what you want to do, and I will guide you through the enchanted forest.<eos>\n"
     ]
    }
   ],
   "source": [
    "prompt = get_starter_prompt(tokenizer)\n",
    "for i in range(0,100):\n",
    "    output = fit_into_model(prompt, tokenizer, model)\n",
    "    print(output)\n",
    "    user_input = input('What is your next move?')\n",
    "    prompt = gen_prompt(user_input,output, model)"
   ]
  },
  {
   "cell_type": "code",
   "execution_count": null,
   "metadata": {},
   "outputs": [],
   "source": []
  }
 ],
 "metadata": {
  "kernelspec": {
   "display_name": "gemma",
   "language": "python",
   "name": "python3"
  },
  "language_info": {
   "codemirror_mode": {
    "name": "ipython",
    "version": 3
   },
   "file_extension": ".py",
   "mimetype": "text/x-python",
   "name": "python",
   "nbconvert_exporter": "python",
   "pygments_lexer": "ipython3",
   "version": "3.10.13"
  }
 },
 "nbformat": 4,
 "nbformat_minor": 2
}
