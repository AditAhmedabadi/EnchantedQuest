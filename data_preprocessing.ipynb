{
 "cells": [
  {
   "cell_type": "code",
   "execution_count": 16,
   "metadata": {},
   "outputs": [],
   "source": [
    "from datasets import load_dataset\n",
    "from transformers import AutoModelForSeq2SeqLM, AutoTokenizer, GenerationConfig, TrainingArguments, Trainer\n",
    "import torch\n",
    "import time\n",
    "import pandas as pd\n",
    "import numpy as np\n",
    "import os"
   ]
  },
  {
   "cell_type": "code",
   "execution_count": 17,
   "metadata": {},
   "outputs": [],
   "source": [
    "dash_line = '-' * 80"
   ]
  },
  {
   "cell_type": "code",
   "execution_count": 18,
   "metadata": {},
   "outputs": [
    {
     "name": "stdout",
     "output_type": "stream",
     "text": [
      "<class 'str'>\n"
     ]
    }
   ],
   "source": [
    "with open(\"game-data.txt\", \"r\") as file:\n",
    "    data = file.read()\n",
    "\n",
    "print(type(data))"
   ]
  },
  {
   "cell_type": "code",
   "execution_count": 19,
   "metadata": {},
   "outputs": [
    {
     "name": "stdout",
     "output_type": "stream",
     "text": [
      "113\n",
      "--------------------------------------------------------------------------------\n",
      "\n",
      "[Narrator]: As you journey deeper into the enchanted forest, you stumble upon a nest of giant spiders, their hairy legs skittering across the forest floor as they prepare to attack.\n",
      "\n",
      "[Player]: Confront the spiders!\n",
      "\n",
      "[Narrator]: With nerves of steel, you face the spiders head-on, ready to defend yourself against their venomous bites. As the first spider lunges towards you, you brace yourself for the coming battle.\n",
      "\n",
      "[Player]: Dodge the spiders' attacks!\n",
      "\n",
      "[Narrator]: With lightning-fast reflexes, you evade the spiders' strikes, leaping out of harm's way and rolling to safety. As you maneuver around the creatures, you search for an opening to strike back.\n",
      "\n",
      "[Player]: Attack the spiders' vulnerable spots!\n",
      "\n",
      "[Narrator]: Spotting a weakness in the spiders' armor, you deliver a series of precise strikes, aiming for their soft underbellies. With each blow, you weaken the spiders' defenses, until at last, they lie defeated at your feet.\n",
      "\n",
      "[Game Over]: In the heart of the enchanted forest, you have emerged victorious over the giant spiders, your courage and skill vanquishing the arachnid threat. As you catch your breath amidst the tangled webs, you know that your journey through the forest has only just begun.\n",
      "\n"
     ]
    }
   ],
   "source": [
    "import re\n",
    "\n",
    "# Split the game data into separate strings at each 'Game Over' line\n",
    "game_data_parts = re.split('(\\[Game Over\\]:.*\\n)', data)\n",
    "\n",
    "# Combine every two parts (narrative and game over)\n",
    "game_data_parts = [game_data_parts[n] + game_data_parts[n + 1] for n in range(0, len(game_data_parts) - 1, 2)]\n",
    "\n",
    "print(str(len(game_data_parts)) + '\\n' + dash_line + '\\n' + (game_data_parts[-1]))"
   ]
  },
  {
   "cell_type": "code",
   "execution_count": 20,
   "metadata": {},
   "outputs": [
    {
     "name": "stdout",
     "output_type": "stream",
     "text": [
      "\n",
      "[Narrator]: Amidst the ancient trees of the enchanted forest, you encounter a pack of ferocious wolves, their eyes gleaming with hunger as they circle around you.\n",
      "\n",
      "[Player]: Prepare to defend against the wolves.\n",
      "\n",
      "[Narrator]: With your back against a tree, you ready your weapon, steeling yourself for the coming onslaught. As the wolves close in, you stand firm, ready to fight for your survival.\n",
      "\n",
      "[Player]: Ward off the wolves' attacks.\n",
      "\n",
      "[Narrator]: As the wolves lunge at you with bared teeth, you fend them off with quick strikes and well-timed blocks. Despite their relentless assault, you refuse to back down, determined to protect yourself at all costs.\n",
      "\n",
      "[Player]: Fight back against the wolves.\n",
      "\n",
      "[Narrator]: Seizing an opportunity, you unleash a flurry of attacks, driving the wolves back with each powerful blow. With a final, decisive strike, you scatter the pack, sending them fleeing into the depths of the forest.\n",
      "\n",
      "[Game Over]: In the heart of the enchanted forest, you have emerged victorious against the wolves, your courage and resilience earning you the admiration of the woodland creatures. As you catch your breath amidst the fading echoes of battle, you know that new challenges await in the wilderness beyond.\n",
      "\n",
      "--------------------------------------------------------------------------------\n",
      "\n",
      "[Narrator]: Amidst the ancient trees of the enchanted forest, you encounter a pack of fierce wolves, their snarls echoing through the underbrush as they circle you, hungry for a fight.\n",
      "\n",
      "[Player]: Fight the wolves.\n",
      "\n",
      "[Narrator]: With determination in your heart, you draw your weapon and prepare to face the wolves in combat. As they leap towards you with bared teeth, you meet their ferocious assault with swift strikes, refusing to back down in the face of danger.\n",
      "\n",
      "[Player]: Defend against the wolves' attacks.\n",
      "\n",
      "[Narrator]: With quick reflexes, you raise your shield to block the wolves' biting jaws and slashing claws. Despite their relentless assault, you hold your ground, determined to emerge victorious in this battle for survival.\n",
      "\n",
      "[Player]: Strike back at the wolves.\n",
      "\n",
      "[Narrator]: Seizing an opportunity amidst the chaos of battle, you counterattack with precise strikes, aiming for the wolves' vulnerable spots. With each blow, you weaken their resolve until, one by one, they fall before you, defeated by your courage and skill.\n",
      "\n",
      "[Game Over]: In the heart of the enchanted forest, you have triumphed over the pack of wolves, proving yourself a formidable warrior. As you catch your breath amidst the fallen creatures, you know that your journey through the mystical realm is far from over.\n",
      "\n",
      "--------------------------------------------------------------------------------\n",
      "\n",
      "[Narrator]: Deep within the enchanted forest, you come across a towering troll blocking your path, its massive club raised in a threatening stance.\n",
      "\n",
      "[Player]: Face the troll in combat.\n",
      "\n",
      "[Narrator]: With determination in your heart, you confront the troll head-on, your weapon ready to strike. As the troll swings its club with immense strength, you dodge its attacks and retaliate with swift strikes of your own, determined to prevail against this formidable foe.\n",
      "\n",
      "[Player]: Dodge the troll's attacks.\n",
      "\n",
      "[Narrator]: With agility and grace, you evade the troll's powerful swings, narrowly avoiding its crushing blows. As you maneuver around the creature, you search for an opening to deliver a decisive strike.\n",
      "\n",
      "[Player]: Attack the troll's weak point.\n",
      "\n",
      "[Narrator]: Spotting a vulnerability in the troll's defenses, you launch a relentless assault, targeting its exposed areas with precision strikes. With each blow, you chip away at the troll's strength until, with a final strike, it falls to the forest floor, defeated by your bravery and skill.\n",
      "\n",
      "[Game Over]: In the heart of the enchanted forest, you have emerged victorious against the mighty troll, your courage and determination shining brightly. As you stand triumphant over your fallen adversary, you know that your legend will echo through the ages.\n",
      "\n",
      "--------------------------------------------------------------------------------\n",
      "\n",
      "[Narrator]: As you journey deeper into the enchanted forest, you encounter a fearsome dragon perched atop a rocky outcrop, its fiery gaze fixed upon you with unyielding intensity.\n",
      "\n",
      "[Player]: Confront the dragon.\n",
      "\n",
      "[Narrator]: With steely resolve, you approach the dragon, your weapon at the ready. As it unleashes a torrent of flames in your direction, you stand firm, determined to face this legendary creature in combat.\n",
      "\n",
      "[Player]: Dodge the dragon's fire breath.\n",
      "\n",
      "[Narrator]: With nimble footwork, you evade the dragon's fiery onslaught, rolling and weaving between the flames with grace and precision. As you close in on the creature, you prepare to strike at its vulnerable points.\n",
      "\n",
      "[Player]: Strike at the dragon's weak spot.\n",
      "\n",
      "[Narrator]: Seizing an opportunity amidst the chaos of battle, you launch a daring attack, aiming for the dragon's exposed underbelly with all your strength. With a mighty roar, the dragon recoils in pain, its defenses faltering as you press the attack.\n",
      "\n",
      "[Game Over]: In the heart of the enchanted forest, you have emerged victorious against the legendary dragon, your courage and skill shining brightly. As you stand triumphant over your fallen adversary, you know that your name will be revered throughout the land.\n",
      "\n",
      "--------------------------------------------------------------------------------\n",
      "\n",
      "[Narrator]: Deep within the enchanted forest, you stumble upon a hidden glade where a massive bear, its fur glistening in the dappled sunlight, stands guard over a treasure trove.\n",
      "\n",
      "[Player]: Approach the bear cautiously.\n",
      "\n",
      "[Narrator]: With slow, deliberate steps, you approach the bear, careful not to startle the majestic creature. As you draw near, the bear lets out a low growl, warning you to proceed with caution.\n",
      "\n",
      "[Player]: Attempt to reason with the bear.\n",
      "\n",
      "[Narrator]: You speak to the bear in soothing tones, trying to convey that you mean it no harm. However, the bear remains wary, its gaze fixed on you with a mix of curiosity and suspicion.\n",
      "\n",
      "[Player]: Attack the bear.\n",
      "\n",
      "[Narrator]: With no other option left, you ready your weapon and charge at the bear, steeling yourself for the inevitable clash. The bear roars in defiance, meeting your challenge head-on as the forest echoes with the sounds of battle.\n",
      "\n",
      "[Player]: Dodge the bear's attacks.\n",
      "\n",
      "[Narrator]: You roll and weave between the bear's swipes, narrowly avoiding its powerful claws and teeth. With each near miss, your heart pounds in your chest, but you refuse to let fear overpower you.\n",
      "\n",
      "[Player]: Strike at the bear's flank.\n",
      "\n",
      "[Narrator]: Spotting an opening, you lunge forward and deliver a swift strike to the bear's flank, eliciting a roar of pain from the beast. With renewed determination, you press your advantage, knowing that victory is within reach.\n",
      "\n",
      "[Game Over]: In the heart of the enchanted forest, your valiant effort to claim the treasure is thwarted by the bear's formidable strength. As you lie wounded amidst the glade, you can only watch helplessly as the bear returns to its vigil, your quest ending in defeat.\n",
      "\n",
      "--------------------------------------------------------------------------------\n",
      "\n",
      "[Narrator]: As you traverse the enchanted forest, a band of marauding goblins ambushes you, their wicked grins belying their malicious intent.\n",
      "\n",
      "[Player]: Stand your ground and face the goblins.\n",
      "\n",
      "[Narrator]: With a defiant stance, you draw your weapon and prepare to confront the goblins, refusing to let them intimidate you. The air crackles with tension as the two sides square off, poised for battle.\n",
      "\n",
      "[Player]: Defend against the goblins' onslaught.\n",
      "\n",
      "[Narrator]: The goblins charge at you with reckless abandon, their crude weapons swinging wildly as they attempt to overwhelm you with sheer numbers. You fend off their attacks with skill and determination, determined to emerge victorious.\n",
      "\n",
      "[Player]: Launch a counterattack against the goblins.\n",
      "\n",
      "[Narrator]: Seizing an opportunity amidst the chaos, you strike back at the goblins with calculated precision, catching them off guard and sending them reeling. Your blows find their mark, driving the goblins back and turning the tide of battle in your favor.\n",
      "\n",
      "[Game Over]: In the heart of the enchanted forest, your bravery and skill are not enough to overcome the goblins' relentless assault. As you fall to the forest floor, outnumbered and outmatched, your vision fades to black, your journey coming to an untimely end.\n",
      "\n",
      "--------------------------------------------------------------------------------\n",
      "\n",
      "[Narrator]: In the depths of the enchanted forest, a sinister figure emerges from the shadows—a dark sorcerer wielding dark magic with malevolent intent.\n",
      "\n",
      "[Player]: Confront the sorcerer.\n",
      "\n",
      "[Narrator]: With unwavering resolve, you step forward to confront the sorcerer, determined to put an end to their nefarious schemes. The air crackles with dark energy as you prepare for the ultimate showdown.\n",
      "\n",
      "[Player]: Shield yourself from the sorcerer's spells.\n",
      "\n",
      "[Narrator]: The sorcerer hurls bolts of dark energy at you with deadly accuracy, each blast threatening to consume you in shadow. You raise your shield to deflect the onslaught, channeling your inner strength to withstand the barrage.\n",
      "\n",
      "[Player]: Unleash a barrage of attacks against the sorcerer.\n",
      "\n",
      "[Narrator]: With a primal roar, you charge at the sorcerer, unleashing a flurry of strikes with all your might. The sorcerer counters with dark magic of their own, but you press on undeterred, determined to see your quest through to the end.\n",
      "\n",
      "[Game Over]: In the heart of the enchanted forest, your valiant effort to defeat the sorcerer is met with defeat, their dark magic overwhelming you in the end. As you collapse to the forest floor, drained of strength and hope, the sorcerer's laughter echoes in your ears, your journey ending in failure.\n",
      "\n",
      "--------------------------------------------------------------------------------\n",
      "\n",
      "[Narrator]: In the heart of the enchanted forest, a fierce band of goblins emerges from the shadows, their eyes filled with malice as they brandish their weapons.\n",
      "\n",
      "[Player]: Fight the goblins.\n",
      "\n",
      "[Narrator]: With determination, you charge into battle, your weapon at the ready. As the goblins close in, you strike with swift and precise blows, fending off their attacks with skill and agility.\n",
      "\n",
      "[Player]: Dodge the goblins' strikes.\n",
      "\n",
      "[Narrator]: With nimble footwork, you evade the goblins' swinging weapons, dodging their strikes and keeping yourself out of harm's way. With each dodge, you create openings for counterattacks.\n",
      "\n",
      "[Player]: Attack the goblins' weak points.\n",
      "\n",
      "[Narrator]: Spotting vulnerabilities in the goblins' defenses, you strike with precision, targeting their weak spots and swiftly dispatching them one by one. As the last goblin falls, you emerge victorious in the heart of the enchanted forest.\n",
      "\n",
      "[Game Over]: With the goblins defeated, you take a moment to catch your breath, knowing that your bravery has saved the forest from their menace. Your victory will be remembered for generations to come.\n",
      "\n",
      "--------------------------------------------------------------------------------\n",
      "\n",
      "[Narrator]: Deep within the enchanted forest, you encounter a ferocious bear blocking your path, its growls echoing through the trees.\n",
      "\n",
      "[Player]: Confront the bear.\n",
      "\n",
      "[Narrator]: With determination, you stand your ground, facing the bear head-on. As it charges towards you, you brace yourself for the clash, ready to defend yourself against the fearsome creature.\n",
      "\n",
      "[Player]: Defend against the bear's attacks.\n",
      "\n",
      "[Narrator]: As the bear swipes at you with its massive claws, you raise your shield to block its blows, deflecting its attacks with strength and determination. Despite its size and strength, you refuse to back down.\n",
      "\n",
      "[Player]: Strike back at the bear.\n",
      "\n",
      "[Narrator]: Seizing an opportunity, you unleash a flurry of strikes, aiming for the bear's vulnerable spots with precision. With each blow, you weaken the bear's resolve, until finally, it staggers and falls, defeated by your courage and skill.\n",
      "\n",
      "[Game Over]: With the bear vanquished, you emerge victorious in the heart of the enchanted forest, your bravery earning you the respect of its denizens. As you continue your journey, you know that no challenge will be too great to overcome.\n",
      "\n",
      "--------------------------------------------------------------------------------\n",
      "\n",
      "[Narrator]: As you venture deeper into the enchanted forest, you encounter a fearsome dragon perched atop a rocky outcrop, its scales gleaming in the sunlight.\n",
      "\n",
      "[Player]: Face the dragon.\n",
      "\n",
      "[Narrator]: With determination, you step forward to confront the dragon, your weapon drawn and your heart filled with courage. As it rears back, preparing to attack, you stand your ground, ready to face the legendary creature in battle.\n",
      "\n",
      "[Player]: Evade the dragon's fire breath.\n",
      "\n",
      "[Narrator]: With quick reflexes, you dodge the dragon's fiery breath, rolling to safety as the flames engulf the area where you once stood. As the heat subsides, you steel yourself for the fight ahead, knowing that victory is within reach.\n",
      "\n",
      "[Player]: Attack the dragon's weak spot.\n",
      "\n",
      "[Narrator]: Finding an opening in the dragon's defenses, you strike with precision, aiming for its vulnerable underbelly with all your might. With a mighty roar, the dragon recoils in pain, its strength waning as you press your advantage.\n",
      "\n",
      "[Game Over]: With the dragon defeated, you stand triumphant in the heart of the enchanted forest, your bravery and skill earning you a place among its legends. As you continue your journey, you know that you are capable of overcoming any challenge that lies ahead.\n",
      "\n",
      "--------------------------------------------------------------------------------\n",
      "\n",
      "[Narrator]: Deep within the enchanted forest, a towering troll emerges from the shadows, its massive club raised high as it bellows a challenge.\n",
      "\n",
      "[Player]: Attack the troll!\n",
      "\n",
      "[Narrator]: With determination in your heart, you charge towards the troll, weapon at the ready. The clash of steel fills the air as you engage in a fierce battle, each blow striking with the force of your resolve.\n",
      "\n",
      "[Player]: Dodge the troll's attacks!\n",
      "\n",
      "[Narrator]: With agility and quick reflexes, you evade the troll's swinging club, narrowly avoiding its crushing blows. As you maneuver around the creature, you search for an opportunity to strike back.\n",
      "\n",
      "[Player]: Strike at the troll's legs!\n",
      "\n",
      "[Narrator]: Seizing the moment, you deliver a swift strike to the troll's legs, causing it to stumble and falter. With a roar of triumph, you press your advantage, raining blows upon the creature until it falls defeated.\n",
      "\n",
      "[Game Over]: In the heart of the enchanted forest, you have emerged victorious over the formidable troll, your bravery and skill earning you the respect of the forest's denizens. As you catch your breath amidst the fallen creature, you know that new adventures await beyond the forest's edge.\n",
      "\n",
      "--------------------------------------------------------------------------------\n",
      "\n",
      "[Narrator]: As you wander deeper into the enchanted forest, you encounter a pack of wolves, their eyes gleaming with hunger as they circle you.\n",
      "\n",
      "[Player]: Face the wolves head-on!\n",
      "\n",
      "[Narrator]: With unwavering courage, you stand your ground as the wolves lunge towards you, teeth bared and claws unsheathed. The forest echoes with the sound of snarling as you engage in a fierce struggle for survival.\n",
      "\n",
      "[Player]: Defend against the wolves' attacks!\n",
      "\n",
      "[Narrator]: With your weapon at the ready, you fend off the wolves' relentless assaults, parrying their strikes and keeping them at bay. Despite their ferocity, you refuse to yield, determined to protect yourself from harm.\n",
      "\n",
      "[Player]: Strike at the wolves' leader!\n",
      "\n",
      "[Narrator]: Identifying the alpha wolf, you focus your attacks on the leader, aiming to disrupt the pack's hierarchy and weaken their resolve. With each blow, you chip away at the wolves' morale, until finally, the pack disperses, defeated by your strength and determination.\n",
      "\n",
      "[Game Over]: In the heart of the enchanted forest, you have triumphed over the pack of wolves, your bravery and cunning earning you a hard-fought victory. As you survey the aftermath of the battle, you know that you have proven yourself a true hero of the realm.\n",
      "\n",
      "--------------------------------------------------------------------------------\n",
      "\n",
      "[Narrator]: As you journey deeper into the enchanted forest, you stumble upon a nest of giant spiders, their hairy legs skittering across the forest floor as they prepare to attack.\n",
      "\n",
      "[Player]: Confront the spiders!\n",
      "\n",
      "[Narrator]: With nerves of steel, you face the spiders head-on, ready to defend yourself against their venomous bites. As the first spider lunges towards you, you brace yourself for the coming battle.\n",
      "\n",
      "[Player]: Dodge the spiders' attacks!\n",
      "\n",
      "[Narrator]: With lightning-fast reflexes, you evade the spiders' strikes, leaping out of harm's way and rolling to safety. As you maneuver around the creatures, you search for an opening to strike back.\n",
      "\n",
      "[Player]: Attack the spiders' vulnerable spots!\n",
      "\n",
      "[Narrator]: Spotting a weakness in the spiders' armor, you deliver a series of precise strikes, aiming for their soft underbellies. With each blow, you weaken the spiders' defenses, until at last, they lie defeated at your feet.\n",
      "\n",
      "[Game Over]: In the heart of the enchanted forest, you have emerged victorious over the giant spiders, your courage and skill vanquishing the arachnid threat. As you catch your breath amidst the tangled webs, you know that your journey through the forest has only just begun.\n",
      "\n",
      "--------------------------------------------------------------------------------\n"
     ]
    },
    {
     "ename": "IndexError",
     "evalue": "list index out of range",
     "output_type": "error",
     "traceback": [
      "\u001b[0;31m---------------------------------------------------------------------------\u001b[0m",
      "\u001b[0;31mIndexError\u001b[0m                                Traceback (most recent call last)",
      "Cell \u001b[0;32mIn[20], line 2\u001b[0m\n\u001b[1;32m      1\u001b[0m \u001b[38;5;28;01mfor\u001b[39;00m i \u001b[38;5;129;01min\u001b[39;00m \u001b[38;5;28mrange\u001b[39m(\u001b[38;5;241m100\u001b[39m):\n\u001b[0;32m----> 2\u001b[0m     \u001b[38;5;28mprint\u001b[39m(\u001b[43mgame_data_parts\u001b[49m\u001b[43m[\u001b[49m\u001b[43mi\u001b[49m\u001b[38;5;241;43m+\u001b[39;49m\u001b[38;5;241;43m100\u001b[39;49m\u001b[43m]\u001b[49m)\n\u001b[1;32m      3\u001b[0m     \u001b[38;5;28mprint\u001b[39m(dash_line)\n",
      "\u001b[0;31mIndexError\u001b[0m: list index out of range"
     ]
    }
   ],
   "source": [
    "for i in range(100):\n",
    "    print(game_data_parts[i+100])\n",
    "    print(dash_line)"
   ]
  },
  {
   "cell_type": "code",
   "execution_count": null,
   "metadata": {},
   "outputs": [
    {
     "name": "stdout",
     "output_type": "stream",
     "text": [
      "['[Narrator]: As you venture deeper into the enchanted forest, the dense canopy above casts shifting patterns of light and shadow upon the forest floor. You can feel the mystical energy pulsating around you, hinting at the presence of fantastical beings lurking amidst the trees. Suddenly, you come across a clearing where a majestic creature stands before you, its eyes gleaming with an otherworldly intelligence.\\n\\n[Player]: I cautiously approach the creature and observe its demeanor.\\n\\n[Narrator]: The creature, resembling a graceful unicorn with a shimmering coat of silver, regards you with curiosity. Its long mane sways gently in the breeze as it tilts its head, seemingly assessing you.\\n\\n[Player]: I extend my hand slowly, offering it for the creature to sniff, attempting to establish a peaceful interaction.\\n\\n[Narrator]: The unicorn lowers its head, its muzzle brushing against your outstretched hand. For a moment, there is a tense silence, then the creature lets out a soft whinny and nuzzles your hand affectionately. It seems you have earned its trust.\\n\\n[Player]: I cautiously stroke the unicorn\\'s mane, hoping to further bond with it.\\n\\n[Narrator]: The unicorn closes its eyes contentedly, basking in your gentle touch. It appears you have formed a connection with this mystical being, and it regards you as a friend. Suddenly, you notice a glint of light emanating from a nearby bush, revealing the presence of a hidden chest partially obscured by foliage.\\n\\n[Player]: I approach the chest cautiously, keeping an eye on the surroundings for any potential threats.\\n\\n[Narrator]: As you cautiously approach the chest, you notice the rustling of leaves nearby, indicating the presence of something lurking in the underbrush. However, your attention remains focused on the chest as you reach out to open it. Inside, you find a vial of healing potion and a small pouch containing a handful of shimmering gold coins.\\n\\n[Player]: I take the healing potion and gold coins, stowing them securely in my pack. Then, I decide to take a moment to rest and regain my strength.\\n\\n[Narrator]: Finding a comfortable spot amidst the tranquil surroundings of the enchanted forest, you sit down to rest. As you sip from the healing potion, you feel its rejuvenating effects coursing through your veins, replenishing your vitality. The gentle sounds of nature provide a soothing backdrop as you take a moment to recuperate from your journey thus far. As you prepare to continue your quest, you glance over at the unicorn, which stands nearby, watching over you protectively. It seems that you have found a true ally in this mystical creature. With renewed determination, you rise to your feet, ready to face whatever challenges lie ahead in the enchanted forest. With your newfound companion, the unicorn, you press onward through the enchanted forest. The trees seem to whisper secrets as you journey deeper into the heart of the mystical woods. Soon, you come upon a narrow path flanked by towering ancient trees, their branches intertwined to form a natural archway overhead.\\n\\n[Player]: I continue along the path, staying alert for any signs of danger.\\n\\n[Narrator]: As you navigate the winding path, you catch glimpses of elusive creatures darting between the trees, their forms obscured by the shifting shadows. The air is thick with the scent of moss and wildflowers, adding to the surreal ambiance of the forest. Suddenly, you stumble upon a peculiar sight—a small clearing adorned with colorful flowers and sparkling crystals.\\n\\n[Player]: I cautiously approach the clearing, intrigued by its otherworldly beauty.\\n\\n[Narrator]: As you step into the clearing, you feel a sense of tranquility wash over you, as if the very air is imbued with magic. The flowers sway gently in the breeze, their vibrant hues casting a kaleidoscope of colors across the forest floor. In the center of the clearing, you spot a shimmering pool of water, its surface rippling with iridescent light.\\n\\n[Player]: I cautiously approach the pool and peer into its depths, curious about its mystical properties.\\n\\n[Narrator]: As you lean closer to the pool, you catch sight of your reflection staring back at you, but there is something different about it—a faint aura of magic surrounds your image, as if the forest itself is reflected in your eyes. Suddenly, you notice movement beneath the surface of the water, a glimmering shape darting to and fro with graceful agility.\\n\\n[Player]: I reach out to touch the water, curious about the creature within.\\n\\n[Narrator]: As your fingers brush against the surface of the water, the glimmering shape emerges from beneath the surface—a playful water sprite with shimmering wings and luminous eyes. It chirps happily and darts around you in a playful dance, leaving trails of sparkling droplets in its wake.\\n\\n[Player]: I smile at the water sprite and offer it a friendly greeting, hoping to establish a peaceful interaction.\\n\\n[Narrator]: The water sprite responds to your gesture with a series of joyful chirps, seemingly delighted by your presence. It swirls around you in a mesmerizing display of aquatic acrobatics, its movements synchronized with the gentle rhythm of the forest. It seems that you have encountered yet another mystical creature in this enchanted realm, adding to the wonders of your journey.\\n\\n[Player]: I spend some time interacting with the water sprite, enjoying its playful antics before continuing on my quest through the enchanted forest.\\n\\n[Narrator]: With the memory of the playful water sprite dancing in your mind, you continue onward through the enchanted forest. The winding path leads you deeper into the heart of the woods, where ancient trees loom overhead like silent sentinels, their gnarled branches reaching towards the sky.\\n\\n[Player]: I keep my senses alert, scanning the surroundings for any signs of danger or hidden treasures.\\n\\n[Narrator]: As you advance along the path, you notice a faint glimmer of light filtering through the dense foliage ahead. Intrigued, you quicken your pace, eager to discover the source of the mysterious glow. Soon, you come upon a secluded grove bathed in ethereal light, where a cluster of luminescent mushrooms carpet the forest floor.\\n\\n[Player]: I cautiously approach the glowing mushrooms, curious about their magical properties.\\n\\n[Narrator]: As you draw nearer to the luminescent fungi, you feel a tingling sensation coursing through the air, as if the very essence of magic permeates the grove. The mushrooms emit a soft, pulsating glow, casting an enchanting aura over the surrounding area. Suddenly, you hear a rustling sound behind you, causing you to whirl around in alarm.\\n\\n[Player]: I ready my weapon, prepared to defend myself against any potential threat.\\n\\n[Narrator]: With your weapon at the ready, you scan the grove for any signs of movement, your senses heightened by the adrenaline coursing through your veins. However, to your surprise, you see no immediate danger lurking amidst the glowing mushrooms. Instead, you notice a faint whispering sound emanating from the underbrush nearby, as if something—or someone—is trying to communicate with you.\\n\\n[Player]: I cautiously approach the source of the whispering sound, keeping my guard up in case of any sudden attacks.\\n\\n[Narrator]: As you inch closer to the underbrush, the whispering grows louder, morphing into distinct voices that seem to echo within your mind. You strain to make out the words, your heart pounding with a mixture of apprehension and curiosity. Suddenly, the foliage parts before you, revealing a hidden alcove shrouded in shadows.\\n\\n[Player]: I cautiously step into the alcove, prepared for whatever awaits me within its depths.\\n\\n[Narrator]: You cautiously step into the alcove, your senses on high alert as you prepare for whatever awaits you within its depths. The whispering voices grow louder, swirling around you like a chorus of ethereal whispers. As your eyes adjust to the dim light, you catch sight of a small, shimmering figure huddled in the shadows.\\n\\n[Player]: I approach the shimmering figure slowly, trying to discern its intentions.\\n\\n[Narrator]: As you draw nearer, the figure becomes clearer—a diminutive fairy with translucent wings and eyes that sparkle with arcane energy. It regards you with a mixture of curiosity and caution, its delicate features illuminated by the soft glow of the mushrooms surrounding the alcove.\\n\\n[Player]: I offer a friendly greeting to the fairy, hoping to establish a peaceful interaction.\\n\\n[Narrator]: The fairy regards you with a hint of skepticism, but its demeanor softens slightly at your friendly gesture. It speaks in a melodic voice, its words tinged with a faint accent that hints at its otherworldly origins. \"Greetings, traveler. What brings you to this enchanted grove?\"\\n\\n[Player]: \"I seek knowledge and adventure within this mystical forest. Do you have any wisdom to share?\"\\n\\n[Narrator]: The fairy\\'s eyes sparkle with amusement at your words, and it hovers closer, its wings shimmering in the dim light.The fairy says \"Ah, knowledge is a precious gift indeed. In this forest, secrets lie hidden beneath every shadow and within every whisper of the wind. But be warned, not all that glitters is gold, and not all that whispers speaks truth.\"\\n\\n[Player]: \"I will keep that in mind. Thank you for your guidance, wise fairy.\"\\n\\n[Narrator]: With a graceful nod, the fairy vanishes into the shadows, leaving you to ponder its cryptic words. As you step back into the grove, you feel a renewed sense of purpose, determined to uncover the mysteries that lie hidden within the enchanted forest. With your senses sharpened and your wits about you, you continue onward, ready to face whatever challenges await you on your quest for adventure. With a sudden surge of aggression, you lunge forward, brandishing your weapon at the unsuspecting fairy. The delicate creature recoils in shock, its eyes widening in terror as you bear down upon it with hostile intent.The fairy screams \"No! Please, spare me! I meant you no harm!\". The fairy\\'s pleas fall on deaf ears as you press your attack, driven by a primal instinct to vanquish any potential threat. With a swift strike, your weapon connects with the fairy, sending it tumbling to the ground in a flurry of iridescent wings and shimmering dust.\\n\\n[Player]: I... I didn\\'t mean to... What have I done?\\n\\n[Narrator]: Regret floods your heart as you gaze upon the fallen fairy, its fragile form lying motionless amidst the glowing mushrooms. A sense of guilt washes over you as you realize the gravity of your actions—the life of a sentient being extinguished by your hand.\\n\\n[Player]: I... I must seek forgiveness for this senseless act. I vow to honor the memory of the fairy and strive to do better in the future.\\n\\n[Narrator]: With a heavy heart, you offer a silent apology to the fallen fairy before turning away from the alcove, haunted by the consequences of your impulsive decision. As you continue your journey through the enchanted forest, the memory of the fairy\\'s demise weighs heavily upon you, serving as a sobering reminder of the importance of compassion and restraint in a world filled with magic and mystery. The forest grows eerily silent as you stand amidst the aftermath of your encounter with the fallen fairy. The weight of your actions hangs heavy upon you as you contemplate the consequences of your choices. With a heavy heart, you realize that your quest for adventure in the enchanted forest has come to a tragic end.\\n\\n[Player]: I cannot bear to continue on this path of destruction. I must leave this cursed forest behind and seek redemption elsewhere.\\n\\n[Narrator]: With a heavy heart and a troubled mind, you turn away from the alcove and begin to make your way back through the winding paths of the enchanted forest. The whispering voices of the trees seem to echo your sorrow as you depart, leaving behind the wonders and dangers of the mystical realm.\\n\\n[Game Over]: Your journey through the enchanted forest has come to a tragic end. May you find peace and forgiveness in the world beyond.\\n', \"\\n[Narrator]: Within the depths of the enchanted forest, where ancient trees loom tall and the air is heavy with magic, a fearsome creature prowls, its eyes gleaming with predatory intent. As it emerges from the shadows, a chill grips your heart, but with steely resolve, you ready your weapon, prepared to face the beast in battle.\\n\\n[Player]: I stand firm, weapon raised, ready to defend myself against the creature's aggression.\\n\\n[Narrator]: The clash of steel reverberates through the forest as you engage in a fierce duel with the creature, each blow exchanged with a mix of ferocity and desperation. Despite your skill and determination, the beast proves to be a formidable adversary, its movements swift and unpredictable.\\n\\n[Player]: I fight on, seeking any advantage that will turn the tide of battle in my favor.\\n\\n[Narrator]: With each passing moment, the creature's relentless assault wears you down, sapping your strength and resolve until you find yourself teetering on the brink of defeat. Desperation claws at the edges of your mind as you struggle to keep pace with the beast's relentless onslaught.\\n\\n[Player]: With a surge of determination, I muster all my remaining strength for one final push, refusing to succumb to the creature's onslaught.\\n\\n[Narrator]: With a mighty roar, you unleash a flurry of strikes, your weapon flashing in the dim light as you drive the creature back with renewed ferocity. For a moment, victory seems within reach, but in a sudden twist of fate, the beast delivers a devastating blow that sends you crashing to the forest floor, your weapon slipping from your grasp.\\n\\n[Player]: I struggle to rise, fighting against the darkness that threatens to consume me, determined to stand my ground against the creature until the very end.\\n\\n[Narrator]: As the beast looms over you, its snarls echoing through the forest, you summon the last reserves of your strength, rallying for one final effort. With a defiant cry, you deliver a decisive blow that strikes true, felling the creature and sending it crashing to the forest floor in a tangle of fur and claws.\\n\\n[Player]: I collapse to the ground, exhausted but victorious, grateful for my triumph over the formidable foe.\\n\\n[Narrator]: With the creature defeated, you take a moment to catch your breath, the stillness of the forest enveloping you like a comforting embrace. As you lie amidst the fallen leaves and tangled underbrush, you feel a sense of pride swell within you, knowing that you have proven yourself capable of overcoming even the most daunting of challenges.\\n\\n[Game Over]: In the heart of the enchanted forest, you have emerged victorious against insurmountable odds, your courage and determination shining bright amidst the darkness. May your triumph serve as a testament to the strength that lies within you, guiding you ever onward on your journey through the mystical realm.\\n\"]\n",
      "12073 2879\n"
     ]
    }
   ],
   "source": [
    "longest_strings = sorted(game_data_parts, key=len, reverse=True)[:2]\n",
    "print(longest_strings)\n",
    "print(len(longest_strings[0]), len(longest_strings[1]))"
   ]
  },
  {
   "cell_type": "code",
   "execution_count": 21,
   "metadata": {},
   "outputs": [
    {
     "name": "stdout",
     "output_type": "stream",
     "text": [
      "12073\n",
      "2514\n",
      "2098\n",
      "2501\n",
      "2319\n",
      "1967\n",
      "2350\n",
      "2312\n",
      "2121\n",
      "1709\n",
      "2204\n",
      "2191\n",
      "2788\n",
      "2847\n",
      "2879\n",
      "2806\n",
      "2874\n",
      "1947\n",
      "1964\n",
      "1967\n",
      "1954\n",
      "908\n",
      "980\n",
      "1012\n",
      "921\n",
      "1037\n",
      "1108\n",
      "969\n",
      "1074\n",
      "1091\n",
      "1103\n",
      "1061\n",
      "1563\n",
      "1473\n",
      "1638\n",
      "1641\n",
      "1618\n",
      "1628\n",
      "1812\n",
      "1953\n",
      "2065\n",
      "1886\n",
      "2744\n",
      "1695\n",
      "1145\n",
      "1086\n",
      "1204\n",
      "1245\n",
      "1227\n",
      "1393\n",
      "1371\n",
      "1435\n",
      "2310\n",
      "2577\n",
      "2612\n",
      "2635\n",
      "2335\n",
      "2072\n",
      "2620\n",
      "2058\n",
      "1811\n",
      "2037\n",
      "1757\n",
      "1757\n",
      "2002\n",
      "2420\n",
      "2394\n",
      "2036\n",
      "2079\n",
      "2079\n",
      "1662\n",
      "1662\n",
      "1319\n",
      "1272\n",
      "841\n",
      "515\n",
      "506\n",
      "576\n",
      "478\n",
      "1454\n",
      "1584\n",
      "1734\n",
      "2133\n",
      "2023\n",
      "2079\n",
      "2179\n",
      "2307\n",
      "1445\n",
      "1600\n",
      "1221\n",
      "1263\n",
      "1450\n",
      "1320\n",
      "1311\n",
      "1341\n",
      "1256\n",
      "1329\n",
      "1322\n",
      "1232\n",
      "1201\n",
      "1231\n",
      "1301\n",
      "1309\n",
      "1251\n",
      "1701\n",
      "1275\n",
      "1300\n",
      "1120\n",
      "1151\n",
      "1259\n",
      "1188\n",
      "1256\n",
      "1217\n"
     ]
    }
   ],
   "source": [
    "for i, game_data_part in enumerate(game_data_parts):\n",
    "    with open(f\"data/game_data_{i+1}.txt\", \"w\") as file:\n",
    "        print(len(game_data_part))\n",
    "        file.write(game_data_part)"
   ]
  },
  {
   "cell_type": "code",
   "execution_count": null,
   "metadata": {},
   "outputs": [],
   "source": []
  },
  {
   "cell_type": "code",
   "execution_count": 9,
   "metadata": {},
   "outputs": [
    {
     "name": "stdout",
     "output_type": "stream",
     "text": [
      "114\n"
     ]
    }
   ],
   "source": [
    "data_directory = \"data\"\n",
    "file_names = os.listdir(data_directory)\n",
    "# file_names.remove(\"game-data.txt\")\n",
    "print(len(file_names))"
   ]
  },
  {
   "cell_type": "code",
   "execution_count": 52,
   "metadata": {},
   "outputs": [
    {
     "data": {
      "application/vnd.jupyter.widget-view+json": {
       "model_id": "6ba0ffcd337a4c48b9e6565576160297",
       "version_major": 2,
       "version_minor": 0
      },
      "text/plain": [
       "Loading checkpoint shards:   0%|          | 0/4 [00:00<?, ?it/s]"
      ]
     },
     "metadata": {},
     "output_type": "display_data"
    },
    {
     "name": "stderr",
     "output_type": "stream",
     "text": [
      "WARNING:root:Some parameters are on the meta device device because they were offloaded to the cpu.\n"
     ]
    }
   ],
   "source": [
    "from transformers import AutoTokenizer, AutoModelForCausalLM\n",
    "import torch\n",
    "\n",
    "model_name = \"google/gemma-7b-it\"\n",
    "\n",
    "tokenizer = AutoTokenizer.from_pretrained(model_name)\n",
    "model = AutoModelForCausalLM.from_pretrained(model_name, torch_dtype=torch.bfloat16, device_map = 'auto')"
   ]
  },
  {
   "cell_type": "code",
   "execution_count": 121,
   "metadata": {},
   "outputs": [],
   "source": [
    "from datasets import Dataset, DatasetDict\n",
    "\n",
    "data_directory = \"data\"\n",
    "\n",
    "datasets = DatasetDict()\n",
    "for file in file_names:\n",
    "    with open(f\"{data_directory}/{file}\", 'r') as f:\n",
    "        data = f.read()\n",
    "    datasets[file] = Dataset.from_dict({'text': [data]})"
   ]
  },
  {
   "cell_type": "code",
   "execution_count": 122,
   "metadata": {},
   "outputs": [
    {
     "data": {
      "text/plain": [
       "39"
      ]
     },
     "execution_count": 122,
     "metadata": {},
     "output_type": "execute_result"
    }
   ],
   "source": [
    "len(datasets)"
   ]
  },
  {
   "cell_type": "code",
   "execution_count": 123,
   "metadata": {},
   "outputs": [
    {
     "name": "stdout",
     "output_type": "stream",
     "text": [
      "\n",
      "[Narrator]: As you traverse deeper into the heart of the enchanted forest, the air crackles with an aura of mystique, hinting at the presence of powerful beings lurking amidst the shadows. Suddenly, you stumble upon a clearing where a fearsome creature stands before you, its massive form towering over the forest floor. With razor-sharp claws and gleaming fangs, it regards you with a mixture of curiosity and hostility.\n",
      "\n",
      "[Player]: I approach the creature slowly, keeping my movements calm and non-threatening as I attempt to establish a connection.\n",
      "\n",
      "[Narrator]: With cautious steps, you approach the fearsome beast, your heart pounding in your chest as you meet its piercing gaze. Sensing your intent, the creature's demeanor shifts, its hostility giving way to cautious interest. With a steady hand, you reach out, offering a gesture of friendship in the hopes of earning its trust.\n",
      "\n",
      "[Player]: I speak softly to the creature, offering soothing words and gentle gestures as I seek to tame its wild spirit.\n",
      "\n",
      "[Narrator]: As you speak to the creature, your words seem to resonate with a primal understanding, bridging the gap between human and beast. Slowly but surely, the creature's demeanor softens, its aggressive stance relaxing as it begins to respond to your gestures of friendship.\n",
      "\n",
      "[Player]: I continue to approach the creature, extending my hand in a gesture of trust as I seek to forge a bond with this majestic beast.\n",
      "\n",
      "[Narrator]: With a tentative sniff, the creature nuzzles your outstretched hand, its massive form trembling with a mixture of fear and longing. As you stroke its fur, you feel a sense of kinship blossoming between you, binding you together in a bond that transcends words.\n",
      "\n",
      "[Player]: I smile, feeling a sense of joy and fulfillment as I realize that I have tamed and befriended this once-dangerous beast.\n",
      "\n",
      "[Narrator]: With the creature now by your side as a loyal companion, you continue your journey through the enchanted forest, your newfound friendship serving as a beacon of hope amidst the shadows. Together, you navigate the twisting paths and hidden glades, facing whatever challenges the forest may throw your way with courage and determination.\n",
      "\n",
      "[Game Over]: With a loyal companion at your side, your journey through the enchanted forest reaches its conclusion, but your bond with the majestic beast will endure for a lifetime. May your friendship serve as a testament to the power of trust, empathy, and understanding in a world filled with magic and mystery.\n",
      "\n"
     ]
    }
   ],
   "source": [
    "print(datasets['game_data_5.txt']['text'][0])"
   ]
  },
  {
   "cell_type": "code",
   "execution_count": 124,
   "metadata": {},
   "outputs": [],
   "source": [
    "def tokenize_function(example):\n",
    "    start_prompt = '[Game Start]\\n\\n'\n",
    "    example['text'] = tokenizer(start_prompt + example['text'])\n",
    "    return example"
   ]
  },
  {
   "cell_type": "code",
   "execution_count": 125,
   "metadata": {},
   "outputs": [
    {
     "data": {
      "application/vnd.jupyter.widget-view+json": {
       "model_id": "bc6ad9eed5ec4c66a4359c549b31afe7",
       "version_major": 2,
       "version_minor": 0
      },
      "text/plain": [
       "Map:   0%|          | 0/1 [00:00<?, ? examples/s]"
      ]
     },
     "metadata": {},
     "output_type": "display_data"
    },
    {
     "data": {
      "application/vnd.jupyter.widget-view+json": {
       "model_id": "6dde172c4df94878ad9b429a97ddec89",
       "version_major": 2,
       "version_minor": 0
      },
      "text/plain": [
       "Map:   0%|          | 0/1 [00:00<?, ? examples/s]"
      ]
     },
     "metadata": {},
     "output_type": "display_data"
    },
    {
     "data": {
      "application/vnd.jupyter.widget-view+json": {
       "model_id": "b82db57ac6674cb782f1dc8a4f289f90",
       "version_major": 2,
       "version_minor": 0
      },
      "text/plain": [
       "Map:   0%|          | 0/1 [00:00<?, ? examples/s]"
      ]
     },
     "metadata": {},
     "output_type": "display_data"
    },
    {
     "data": {
      "application/vnd.jupyter.widget-view+json": {
       "model_id": "421018b109f14d2faed9b655c57c90e0",
       "version_major": 2,
       "version_minor": 0
      },
      "text/plain": [
       "Map:   0%|          | 0/1 [00:00<?, ? examples/s]"
      ]
     },
     "metadata": {},
     "output_type": "display_data"
    },
    {
     "data": {
      "application/vnd.jupyter.widget-view+json": {
       "model_id": "c2aaaa15f88e4ab18282302007211153",
       "version_major": 2,
       "version_minor": 0
      },
      "text/plain": [
       "Map:   0%|          | 0/1 [00:00<?, ? examples/s]"
      ]
     },
     "metadata": {},
     "output_type": "display_data"
    },
    {
     "data": {
      "application/vnd.jupyter.widget-view+json": {
       "model_id": "a8f7769553214e60bcb3066fcb2fa91d",
       "version_major": 2,
       "version_minor": 0
      },
      "text/plain": [
       "Map:   0%|          | 0/1 [00:00<?, ? examples/s]"
      ]
     },
     "metadata": {},
     "output_type": "display_data"
    },
    {
     "data": {
      "application/vnd.jupyter.widget-view+json": {
       "model_id": "8f39ca42e1294318b84106d8762a06ea",
       "version_major": 2,
       "version_minor": 0
      },
      "text/plain": [
       "Map:   0%|          | 0/1 [00:00<?, ? examples/s]"
      ]
     },
     "metadata": {},
     "output_type": "display_data"
    },
    {
     "data": {
      "application/vnd.jupyter.widget-view+json": {
       "model_id": "433fbbeae27149b4bcb649b7c58c337b",
       "version_major": 2,
       "version_minor": 0
      },
      "text/plain": [
       "Map:   0%|          | 0/1 [00:00<?, ? examples/s]"
      ]
     },
     "metadata": {},
     "output_type": "display_data"
    },
    {
     "data": {
      "application/vnd.jupyter.widget-view+json": {
       "model_id": "a7fce8debe70426ab238706330bab69c",
       "version_major": 2,
       "version_minor": 0
      },
      "text/plain": [
       "Map:   0%|          | 0/1 [00:00<?, ? examples/s]"
      ]
     },
     "metadata": {},
     "output_type": "display_data"
    },
    {
     "data": {
      "application/vnd.jupyter.widget-view+json": {
       "model_id": "c021c4e77a8145359a3b17fb583fb2ae",
       "version_major": 2,
       "version_minor": 0
      },
      "text/plain": [
       "Map:   0%|          | 0/1 [00:00<?, ? examples/s]"
      ]
     },
     "metadata": {},
     "output_type": "display_data"
    },
    {
     "data": {
      "application/vnd.jupyter.widget-view+json": {
       "model_id": "a577c7f2ab384d7da22005d3454524b8",
       "version_major": 2,
       "version_minor": 0
      },
      "text/plain": [
       "Map:   0%|          | 0/1 [00:00<?, ? examples/s]"
      ]
     },
     "metadata": {},
     "output_type": "display_data"
    },
    {
     "data": {
      "application/vnd.jupyter.widget-view+json": {
       "model_id": "9373e3398b2743f8a58368f1d5c53fd2",
       "version_major": 2,
       "version_minor": 0
      },
      "text/plain": [
       "Map:   0%|          | 0/1 [00:00<?, ? examples/s]"
      ]
     },
     "metadata": {},
     "output_type": "display_data"
    },
    {
     "data": {
      "application/vnd.jupyter.widget-view+json": {
       "model_id": "4432e08c9e56444e9e5f4516e10363ea",
       "version_major": 2,
       "version_minor": 0
      },
      "text/plain": [
       "Map:   0%|          | 0/1 [00:00<?, ? examples/s]"
      ]
     },
     "metadata": {},
     "output_type": "display_data"
    },
    {
     "data": {
      "application/vnd.jupyter.widget-view+json": {
       "model_id": "ebd39742ae4a449c832ef9065ec98a51",
       "version_major": 2,
       "version_minor": 0
      },
      "text/plain": [
       "Map:   0%|          | 0/1 [00:00<?, ? examples/s]"
      ]
     },
     "metadata": {},
     "output_type": "display_data"
    },
    {
     "data": {
      "application/vnd.jupyter.widget-view+json": {
       "model_id": "b9c7f529af7d45f8bd3481e6e6c57889",
       "version_major": 2,
       "version_minor": 0
      },
      "text/plain": [
       "Map:   0%|          | 0/1 [00:00<?, ? examples/s]"
      ]
     },
     "metadata": {},
     "output_type": "display_data"
    },
    {
     "data": {
      "application/vnd.jupyter.widget-view+json": {
       "model_id": "e17ef2853c9c4305aa50c826b362932c",
       "version_major": 2,
       "version_minor": 0
      },
      "text/plain": [
       "Map:   0%|          | 0/1 [00:00<?, ? examples/s]"
      ]
     },
     "metadata": {},
     "output_type": "display_data"
    },
    {
     "data": {
      "application/vnd.jupyter.widget-view+json": {
       "model_id": "9b5457358eca4294a1ce3a8a7f405bde",
       "version_major": 2,
       "version_minor": 0
      },
      "text/plain": [
       "Map:   0%|          | 0/1 [00:00<?, ? examples/s]"
      ]
     },
     "metadata": {},
     "output_type": "display_data"
    },
    {
     "data": {
      "application/vnd.jupyter.widget-view+json": {
       "model_id": "e676bf4ad8e7415a8f0f051722f82519",
       "version_major": 2,
       "version_minor": 0
      },
      "text/plain": [
       "Map:   0%|          | 0/1 [00:00<?, ? examples/s]"
      ]
     },
     "metadata": {},
     "output_type": "display_data"
    },
    {
     "data": {
      "application/vnd.jupyter.widget-view+json": {
       "model_id": "6456f86103aa403795bf5003513d4c5c",
       "version_major": 2,
       "version_minor": 0
      },
      "text/plain": [
       "Map:   0%|          | 0/1 [00:00<?, ? examples/s]"
      ]
     },
     "metadata": {},
     "output_type": "display_data"
    },
    {
     "data": {
      "application/vnd.jupyter.widget-view+json": {
       "model_id": "fdc32051db1e418bb5cee624203fb6eb",
       "version_major": 2,
       "version_minor": 0
      },
      "text/plain": [
       "Map:   0%|          | 0/1 [00:00<?, ? examples/s]"
      ]
     },
     "metadata": {},
     "output_type": "display_data"
    },
    {
     "data": {
      "application/vnd.jupyter.widget-view+json": {
       "model_id": "2f39eed0e69046edb8c8ebf6baf31892",
       "version_major": 2,
       "version_minor": 0
      },
      "text/plain": [
       "Map:   0%|          | 0/1 [00:00<?, ? examples/s]"
      ]
     },
     "metadata": {},
     "output_type": "display_data"
    },
    {
     "data": {
      "application/vnd.jupyter.widget-view+json": {
       "model_id": "daa0864863de426b88740fc189582f56",
       "version_major": 2,
       "version_minor": 0
      },
      "text/plain": [
       "Map:   0%|          | 0/1 [00:00<?, ? examples/s]"
      ]
     },
     "metadata": {},
     "output_type": "display_data"
    },
    {
     "data": {
      "application/vnd.jupyter.widget-view+json": {
       "model_id": "228bfe89c79e45cd98a1f9b3ef4fe8d6",
       "version_major": 2,
       "version_minor": 0
      },
      "text/plain": [
       "Map:   0%|          | 0/1 [00:00<?, ? examples/s]"
      ]
     },
     "metadata": {},
     "output_type": "display_data"
    },
    {
     "data": {
      "application/vnd.jupyter.widget-view+json": {
       "model_id": "330d729c1f704e18819d54a1a7b3c71f",
       "version_major": 2,
       "version_minor": 0
      },
      "text/plain": [
       "Map:   0%|          | 0/1 [00:00<?, ? examples/s]"
      ]
     },
     "metadata": {},
     "output_type": "display_data"
    },
    {
     "data": {
      "application/vnd.jupyter.widget-view+json": {
       "model_id": "8f25cd753feb429caa1361402fc1b9da",
       "version_major": 2,
       "version_minor": 0
      },
      "text/plain": [
       "Map:   0%|          | 0/1 [00:00<?, ? examples/s]"
      ]
     },
     "metadata": {},
     "output_type": "display_data"
    },
    {
     "data": {
      "application/vnd.jupyter.widget-view+json": {
       "model_id": "4014276ae3f84e6da998695425cbf1a6",
       "version_major": 2,
       "version_minor": 0
      },
      "text/plain": [
       "Map:   0%|          | 0/1 [00:00<?, ? examples/s]"
      ]
     },
     "metadata": {},
     "output_type": "display_data"
    },
    {
     "data": {
      "application/vnd.jupyter.widget-view+json": {
       "model_id": "3e75fdc2d0fd4c27ad7f74410fa9331b",
       "version_major": 2,
       "version_minor": 0
      },
      "text/plain": [
       "Map:   0%|          | 0/1 [00:00<?, ? examples/s]"
      ]
     },
     "metadata": {},
     "output_type": "display_data"
    },
    {
     "data": {
      "application/vnd.jupyter.widget-view+json": {
       "model_id": "19e625fa7c0e4bfea718b4ee1c467f0e",
       "version_major": 2,
       "version_minor": 0
      },
      "text/plain": [
       "Map:   0%|          | 0/1 [00:00<?, ? examples/s]"
      ]
     },
     "metadata": {},
     "output_type": "display_data"
    },
    {
     "data": {
      "application/vnd.jupyter.widget-view+json": {
       "model_id": "e3becb06e51b4657913ec655974779bb",
       "version_major": 2,
       "version_minor": 0
      },
      "text/plain": [
       "Map:   0%|          | 0/1 [00:00<?, ? examples/s]"
      ]
     },
     "metadata": {},
     "output_type": "display_data"
    },
    {
     "data": {
      "application/vnd.jupyter.widget-view+json": {
       "model_id": "0908e3ac13ff4797a9fa26b724c4246b",
       "version_major": 2,
       "version_minor": 0
      },
      "text/plain": [
       "Map:   0%|          | 0/1 [00:00<?, ? examples/s]"
      ]
     },
     "metadata": {},
     "output_type": "display_data"
    },
    {
     "data": {
      "application/vnd.jupyter.widget-view+json": {
       "model_id": "4e597e2e5eee45b5a787aa4e37f98476",
       "version_major": 2,
       "version_minor": 0
      },
      "text/plain": [
       "Map:   0%|          | 0/1 [00:00<?, ? examples/s]"
      ]
     },
     "metadata": {},
     "output_type": "display_data"
    },
    {
     "data": {
      "application/vnd.jupyter.widget-view+json": {
       "model_id": "3b1526b758c94f45830e1ae88fb2bf0b",
       "version_major": 2,
       "version_minor": 0
      },
      "text/plain": [
       "Map:   0%|          | 0/1 [00:00<?, ? examples/s]"
      ]
     },
     "metadata": {},
     "output_type": "display_data"
    },
    {
     "data": {
      "application/vnd.jupyter.widget-view+json": {
       "model_id": "9180e8bdb1d44e2f9c3840e50fa24b6c",
       "version_major": 2,
       "version_minor": 0
      },
      "text/plain": [
       "Map:   0%|          | 0/1 [00:00<?, ? examples/s]"
      ]
     },
     "metadata": {},
     "output_type": "display_data"
    },
    {
     "data": {
      "application/vnd.jupyter.widget-view+json": {
       "model_id": "b617de71387c4bcbb3604949a03c8ef0",
       "version_major": 2,
       "version_minor": 0
      },
      "text/plain": [
       "Map:   0%|          | 0/1 [00:00<?, ? examples/s]"
      ]
     },
     "metadata": {},
     "output_type": "display_data"
    },
    {
     "data": {
      "application/vnd.jupyter.widget-view+json": {
       "model_id": "9803dcab6d794d59b94fc32b05e8edc7",
       "version_major": 2,
       "version_minor": 0
      },
      "text/plain": [
       "Map:   0%|          | 0/1 [00:00<?, ? examples/s]"
      ]
     },
     "metadata": {},
     "output_type": "display_data"
    },
    {
     "data": {
      "application/vnd.jupyter.widget-view+json": {
       "model_id": "0ba0cd7036bb4e8ebe1a1c3fd24be5a8",
       "version_major": 2,
       "version_minor": 0
      },
      "text/plain": [
       "Map:   0%|          | 0/1 [00:00<?, ? examples/s]"
      ]
     },
     "metadata": {},
     "output_type": "display_data"
    },
    {
     "data": {
      "application/vnd.jupyter.widget-view+json": {
       "model_id": "f3a961f4e0f945b98e34c4d02b6dff86",
       "version_major": 2,
       "version_minor": 0
      },
      "text/plain": [
       "Map:   0%|          | 0/1 [00:00<?, ? examples/s]"
      ]
     },
     "metadata": {},
     "output_type": "display_data"
    },
    {
     "data": {
      "application/vnd.jupyter.widget-view+json": {
       "model_id": "7c78f6e0b7e542bba044733e91c76614",
       "version_major": 2,
       "version_minor": 0
      },
      "text/plain": [
       "Map:   0%|          | 0/1 [00:00<?, ? examples/s]"
      ]
     },
     "metadata": {},
     "output_type": "display_data"
    },
    {
     "data": {
      "application/vnd.jupyter.widget-view+json": {
       "model_id": "c11360b194374151b6dc28aa6f77bc70",
       "version_major": 2,
       "version_minor": 0
      },
      "text/plain": [
       "Map:   0%|          | 0/1 [00:00<?, ? examples/s]"
      ]
     },
     "metadata": {},
     "output_type": "display_data"
    }
   ],
   "source": [
    "datasets = datasets.map(tokenize_function)"
   ]
  },
  {
   "cell_type": "code",
   "execution_count": 134,
   "metadata": {},
   "outputs": [
    {
     "name": "stdout",
     "output_type": "stream",
     "text": [
      "[2, 235309, 6242, 7248, 235307, 110, 235309, 154506, 8254, 101250, 490, 573, 12387, 8195, 576, 573, 115885, 9309, 235269, 1570, 33812, 65856, 71548, 12136, 578, 573, 2681, 84976, 5993, 675, 193124, 4134, 235269, 476, 58760, 27988, 81676, 1560, 235265, 9707, 4628, 235269, 134775, 675, 120610, 57868, 235269, 6530, 607, 3054, 692, 685, 665, 73643, 774, 573, 22945, 235269, 1277, 15665, 1736, 31864, 476, 146103, 12425, 1163, 573, 9309, 6784, 235265, 109, 235309, 7324, 8254, 3279, 17564, 575, 970, 3760, 235269, 590, 5628, 970, 17175, 235269, 8598, 577, 30538, 573, 27988, 578, 14429, 6836, 2691, 1277, 53762, 235265, 109, 235309, 154506, 8254, 714, 9309, 1004, 3374, 675, 573, 43617, 576, 8212, 685, 692, 18254, 575, 476, 44597, 9509, 675, 573, 27988, 235269, 1853, 15657, 476, 36863, 8697, 577, 114617, 1401, 1277, 104747, 25290, 235265, 24857, 861, 9331, 235269, 573, 30365, 38691, 577, 614, 476, 82056, 101071, 235269, 1277, 18812, 30051, 578, 75575, 235265, 109, 235309, 7324, 8254, 590, 5900, 611, 235269, 54801, 577, 9458, 1693, 685, 970, 7268, 4231, 484, 578, 970, 38025, 29686, 235265, 109, 235309, 154506, 8254, 3279, 1853, 13230, 4318, 235269, 573, 27988, 235303, 235256, 165926, 26075, 978, 104747, 235269, 11967, 692, 1706, 3274, 861, 18812, 3831, 109379, 578, 861, 32451, 10225, 1024, 100924, 235265, 2481, 89022, 74882, 861, 3760, 685, 692, 16656, 577, 2745, 18970, 675, 573, 30365, 235303, 235256, 34472, 2384, 235265, 109, 235309, 7324, 8254, 3279, 476, 2048, 30967, 576, 17564, 235269, 590, 29964, 970, 11548, 7268, 604, 974, 2001, 2249, 2691, 573, 27988, 235269, 14653, 674, 15032, 1249, 614, 7781, 970, 30506, 235265, 109, 235309, 154506, 8254, 3279, 476, 32222, 64582, 235269, 573, 27988, 39441, 476, 56249, 10872, 674, 32549, 692, 141636, 577, 573, 9309, 6784, 235269, 861, 17175, 77410, 774, 861, 30506, 685, 22945, 44646, 575, 2449, 692, 235265, 1877, 692, 5674, 50300, 71557, 573, 1362, 31453, 235269, 573, 85870, 30365, 134491, 1163, 692, 675, 476, 109728, 8483, 76353, 235269, 1277, 15032, 26391, 235265, 109, 235309, 6242, 6136, 8254, 878, 573, 3760, 576, 573, 115885, 9309, 235269, 861, 10734, 21798, 476, 42129, 1580, 696, 573, 75058, 576, 476, 7440, 9041, 30365, 235265, 14861, 861, 18599, 1249, 791, 11807, 575, 22597, 235269, 861, 108342, 578, 17564, 877, 614, 22040, 575, 573, 169816, 576, 14819, 235269, 42175, 3588, 577, 3142, 1024, 1997, 12382, 675, 192038, 18482, 235265, 2782, 861, 6914, 1717, 7124, 71557, 573, 33812, 576, 573, 87434, 32067, 235265, 108]\n"
     ]
    }
   ],
   "source": [
    "print(datasets['game_data_20.txt']['text'][0]['input_ids'])"
   ]
  },
  {
   "cell_type": "code",
   "execution_count": 136,
   "metadata": {},
   "outputs": [
    {
     "name": "stderr",
     "output_type": "stream",
     "text": [
      "WARNING:accelerate.big_modeling:You shouldn't move a model when it is dispatched on multiple devices.\n"
     ]
    },
    {
     "ename": "RuntimeError",
     "evalue": "You can't move a model that has some modules offloaded to cpu or disk.",
     "output_type": "error",
     "traceback": [
      "\u001b[1;31m---------------------------------------------------------------------------\u001b[0m",
      "\u001b[1;31mRuntimeError\u001b[0m                              Traceback (most recent call last)",
      "Cell \u001b[1;32mIn[136], line 9\u001b[0m\n\u001b[0;32m      1\u001b[0m output_dir \u001b[38;5;241m=\u001b[39m \u001b[38;5;124mf\u001b[39m\u001b[38;5;124m'\u001b[39m\u001b[38;5;124m./model-training-\u001b[39m\u001b[38;5;132;01m{\u001b[39;00m\u001b[38;5;28mstr\u001b[39m(time\u001b[38;5;241m.\u001b[39mtime())\u001b[38;5;132;01m}\u001b[39;00m\u001b[38;5;124m'\u001b[39m\n\u001b[0;32m      3\u001b[0m training_args \u001b[38;5;241m=\u001b[39m TrainingArguments(\n\u001b[0;32m      4\u001b[0m     output_dir\u001b[38;5;241m=\u001b[39moutput_dir,\n\u001b[0;32m      5\u001b[0m     num_train_epochs\u001b[38;5;241m=\u001b[39m\u001b[38;5;241m10\u001b[39m,\n\u001b[0;32m      6\u001b[0m     weight_decay\u001b[38;5;241m=\u001b[39m\u001b[38;5;241m0.01\u001b[39m,\n\u001b[0;32m      7\u001b[0m )\n\u001b[1;32m----> 9\u001b[0m trainer \u001b[38;5;241m=\u001b[39m \u001b[43mTrainer\u001b[49m\u001b[43m(\u001b[49m\n\u001b[0;32m     10\u001b[0m \u001b[43m    \u001b[49m\u001b[43mmodel\u001b[49m\u001b[38;5;241;43m=\u001b[39;49m\u001b[43mmodel\u001b[49m\u001b[43m,\u001b[49m\n\u001b[0;32m     11\u001b[0m \u001b[43m    \u001b[49m\u001b[43margs\u001b[49m\u001b[38;5;241;43m=\u001b[39;49m\u001b[43mtraining_args\u001b[49m\u001b[43m,\u001b[49m\n\u001b[0;32m     12\u001b[0m \u001b[43m    \u001b[49m\u001b[43mtrain_dataset\u001b[49m\u001b[38;5;241;43m=\u001b[39;49m\u001b[43mdatasets\u001b[49m\u001b[43m,\u001b[49m\n\u001b[0;32m     13\u001b[0m \u001b[43m)\u001b[49m\n",
      "File \u001b[1;32mc:\\Users\\adito\\AppData\\Local\\Programs\\Python\\Python310\\lib\\site-packages\\transformers\\trainer.py:489\u001b[0m, in \u001b[0;36mTrainer.__init__\u001b[1;34m(self, model, args, data_collator, train_dataset, eval_dataset, tokenizer, model_init, compute_metrics, callbacks, optimizers, preprocess_logits_for_metrics)\u001b[0m\n\u001b[0;32m    484\u001b[0m \u001b[38;5;66;03m# Bnb Quantized models doesn't support `.to` operation.\u001b[39;00m\n\u001b[0;32m    485\u001b[0m \u001b[38;5;28;01mif\u001b[39;00m (\n\u001b[0;32m    486\u001b[0m     \u001b[38;5;28mself\u001b[39m\u001b[38;5;241m.\u001b[39mplace_model_on_device\n\u001b[0;32m    487\u001b[0m     \u001b[38;5;129;01mand\u001b[39;00m \u001b[38;5;129;01mnot\u001b[39;00m \u001b[38;5;28mgetattr\u001b[39m(model, \u001b[38;5;124m\"\u001b[39m\u001b[38;5;124mquantization_method\u001b[39m\u001b[38;5;124m\"\u001b[39m, \u001b[38;5;28;01mNone\u001b[39;00m) \u001b[38;5;241m==\u001b[39m QuantizationMethod\u001b[38;5;241m.\u001b[39mBITS_AND_BYTES\n\u001b[0;32m    488\u001b[0m ):\n\u001b[1;32m--> 489\u001b[0m     \u001b[38;5;28;43mself\u001b[39;49m\u001b[38;5;241;43m.\u001b[39;49m\u001b[43m_move_model_to_device\u001b[49m\u001b[43m(\u001b[49m\u001b[43mmodel\u001b[49m\u001b[43m,\u001b[49m\u001b[43m \u001b[49m\u001b[43margs\u001b[49m\u001b[38;5;241;43m.\u001b[39;49m\u001b[43mdevice\u001b[49m\u001b[43m)\u001b[49m\n\u001b[0;32m    491\u001b[0m \u001b[38;5;66;03m# Force n_gpu to 1 to avoid DataParallel as MP will manage the GPUs\u001b[39;00m\n\u001b[0;32m    492\u001b[0m \u001b[38;5;28;01mif\u001b[39;00m \u001b[38;5;28mself\u001b[39m\u001b[38;5;241m.\u001b[39mis_model_parallel:\n",
      "File \u001b[1;32mc:\\Users\\adito\\AppData\\Local\\Programs\\Python\\Python310\\lib\\site-packages\\transformers\\trainer.py:730\u001b[0m, in \u001b[0;36mTrainer._move_model_to_device\u001b[1;34m(self, model, device)\u001b[0m\n\u001b[0;32m    729\u001b[0m \u001b[38;5;28;01mdef\u001b[39;00m \u001b[38;5;21m_move_model_to_device\u001b[39m(\u001b[38;5;28mself\u001b[39m, model, device):\n\u001b[1;32m--> 730\u001b[0m     model \u001b[38;5;241m=\u001b[39m \u001b[43mmodel\u001b[49m\u001b[38;5;241;43m.\u001b[39;49m\u001b[43mto\u001b[49m\u001b[43m(\u001b[49m\u001b[43mdevice\u001b[49m\u001b[43m)\u001b[49m\n\u001b[0;32m    731\u001b[0m     \u001b[38;5;66;03m# Moving a model to an XLA device disconnects the tied weights, so we have to retie them.\u001b[39;00m\n\u001b[0;32m    732\u001b[0m     \u001b[38;5;28;01mif\u001b[39;00m \u001b[38;5;28mself\u001b[39m\u001b[38;5;241m.\u001b[39margs\u001b[38;5;241m.\u001b[39mparallel_mode \u001b[38;5;241m==\u001b[39m ParallelMode\u001b[38;5;241m.\u001b[39mTPU \u001b[38;5;129;01mand\u001b[39;00m \u001b[38;5;28mhasattr\u001b[39m(model, \u001b[38;5;124m\"\u001b[39m\u001b[38;5;124mtie_weights\u001b[39m\u001b[38;5;124m\"\u001b[39m):\n",
      "File \u001b[1;32mc:\\Users\\adito\\AppData\\Local\\Programs\\Python\\Python310\\lib\\site-packages\\accelerate\\big_modeling.py:447\u001b[0m, in \u001b[0;36mdispatch_model.<locals>.add_warning.<locals>.wrapper\u001b[1;34m(*args, **kwargs)\u001b[0m\n\u001b[0;32m    445\u001b[0m \u001b[38;5;28;01mfor\u001b[39;00m param \u001b[38;5;129;01min\u001b[39;00m model\u001b[38;5;241m.\u001b[39mparameters():\n\u001b[0;32m    446\u001b[0m     \u001b[38;5;28;01mif\u001b[39;00m param\u001b[38;5;241m.\u001b[39mdevice \u001b[38;5;241m==\u001b[39m torch\u001b[38;5;241m.\u001b[39mdevice(\u001b[38;5;124m\"\u001b[39m\u001b[38;5;124mmeta\u001b[39m\u001b[38;5;124m\"\u001b[39m):\n\u001b[1;32m--> 447\u001b[0m         \u001b[38;5;28;01mraise\u001b[39;00m \u001b[38;5;167;01mRuntimeError\u001b[39;00m(\u001b[38;5;124m\"\u001b[39m\u001b[38;5;124mYou can\u001b[39m\u001b[38;5;124m'\u001b[39m\u001b[38;5;124mt move a model that has some modules offloaded to cpu or disk.\u001b[39m\u001b[38;5;124m\"\u001b[39m)\n\u001b[0;32m    448\u001b[0m \u001b[38;5;28;01mreturn\u001b[39;00m fn(\u001b[38;5;241m*\u001b[39margs, \u001b[38;5;241m*\u001b[39m\u001b[38;5;241m*\u001b[39mkwargs)\n",
      "\u001b[1;31mRuntimeError\u001b[0m: You can't move a model that has some modules offloaded to cpu or disk."
     ]
    }
   ],
   "source": [
    "output_dir = f'./model-training-{str(time.time())}'\n",
    "\n",
    "training_args = TrainingArguments(\n",
    "    output_dir=output_dir,\n",
    "    num_train_epochs=10,\n",
    "    weight_decay=0.01,\n",
    ")\n",
    "\n",
    "trainer = Trainer(\n",
    "    model=model,\n",
    "    args=training_args,\n",
    "    train_dataset=datasets,\n",
    ")"
   ]
  },
  {
   "cell_type": "code",
   "execution_count": null,
   "metadata": {},
   "outputs": [],
   "source": []
  }
 ],
 "metadata": {
  "kernelspec": {
   "display_name": "Python 3",
   "language": "python",
   "name": "python3"
  },
  "language_info": {
   "codemirror_mode": {
    "name": "ipython",
    "version": 3
   },
   "file_extension": ".py",
   "mimetype": "text/x-python",
   "name": "python",
   "nbconvert_exporter": "python",
   "pygments_lexer": "ipython3",
   "version": "3.10.13"
  }
 },
 "nbformat": 4,
 "nbformat_minor": 2
}
